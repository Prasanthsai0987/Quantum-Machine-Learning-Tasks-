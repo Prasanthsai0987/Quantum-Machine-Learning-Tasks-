{
  "nbformat": 4,
  "nbformat_minor": 0,
  "metadata": {
    "colab": {
      "provenance": [],
      "authorship_tag": "ABX9TyPt4tV/79ojFn67PKk54ch6",
      "include_colab_link": true
    },
    "kernelspec": {
      "name": "python3",
      "display_name": "Python 3"
    },
    "language_info": {
      "name": "python"
    }
  },
  "cells": [
    {
      "cell_type": "markdown",
      "metadata": {
        "id": "view-in-github",
        "colab_type": "text"
      },
      "source": [
        "<a href=\"https://colab.research.google.com/github/Prasanthsai0987/Quantum-Machine-Learning-Tasks-/blob/main/QML%20%20(Task-%202)%20%20.ipynb\" target=\"_parent\"><img src=\"https://colab.research.google.com/assets/colab-badge.svg\" alt=\"Open In Colab\"/></a>"
      ]
    },
    {
      "cell_type": "markdown",
      "source": [
        "TASK 2: PAULI MATRICES AND EIGEN-ANALYSIS\n",
        "============================================================\n",
        "\n",
        "AIM:\n",
        "-----\n",
        "To study the properties of Pauli matrices (σx, σy, σz), apply them\n",
        "to qubit basis states |0⟩ and |1⟩, and perform eigenvalue–eigenvector\n",
        "analysis to understand their quantum behavior.\n",
        "\n"
      ],
      "metadata": {
        "id": "twEiQ6fdObTO"
      }
    },
    {
      "cell_type": "markdown",
      "source": [
        "------------------------------------------------------------\n",
        "ALGORITHM:\n",
        "------------------------------------------------------------\n",
        "\n",
        "Step 1: Import required libraries (NumPy for matrix operations).\n",
        "\n",
        "Step 2: Define the three Pauli matrices:\n",
        "           σx, σy, σz\n",
        "\n",
        "Step 3: Define qubit basis states:\n",
        "           |0⟩ = [1, 0]\n",
        "           |1⟩ = [0, 1]\n",
        "\n",
        "Step 4: Apply each Pauli matrix to the basis states to observe their\n",
        "        transformation properties.\n",
        "\n",
        "Step 5: Define a function to perform eigen-analysis:\n",
        "           - Compute eigenvalues and eigenvectors using numpy.linalg.eig()\n",
        "           - Display results for each matrix\n",
        "\n",
        "Step 6: Call the function for σx, σy, and σz to obtain:\n",
        "           - Eigenvalues (±1)\n",
        "           - Corresponding normalized eigenvectors\n",
        "\n",
        "Step 7: Interpret results:\n",
        "           - Verify Hermitian and unitary properties\n",
        "           - Confirm that eigenvectors form orthonormal bases"
      ],
      "metadata": {
        "id": "4XKOTqWrR_DE"
      }
    },
    {
      "cell_type": "markdown",
      "source": [
        "MATHEMATICAL MODEL:\n",
        "------------------------------------------------------------\n",
        "\n",
        "1. Pauli Matrices:\n",
        "\n",
        "σx = [[0, 1],\n",
        "      [1, 0]]\n",
        "\n",
        "σy = [[0, -i],\n",
        "      [i,  0]]\n",
        "\n",
        "σz = [[1,  0],\n",
        "      [0, -1]]\n",
        "\n",
        "Each Pauli matrix is Hermitian (σ = σ†) and unitary (σ σ† = I).\n",
        "\n",
        "------------------------------------------------------------\n",
        "2. Qubit Basis States:\n",
        "\n",
        "|0⟩ = [1, 0]ᵀ\n",
        "|1⟩ = [0, 1]ᵀ\n",
        "\n",
        "------------------------------------------------------------\n",
        "3. Action of Pauli Matrices on Qubit States:\n",
        "\n",
        "σx|0⟩ = |1⟩\n",
        "σx|1⟩ = |0⟩\n",
        "\n",
        "σy|0⟩ = i|1⟩\n",
        "σy|1⟩ = -i|0⟩\n",
        "\n",
        "σz|0⟩ = |0⟩\n",
        "σz|1⟩ = -|1⟩\n",
        "\n",
        "------------------------------------------------------------\n",
        "4. Eigenvalue Equation:\n",
        "\n",
        "For each Pauli matrix σᵢ (i ∈ {x, y, z}):\n",
        "\n",
        "σᵢ |ψ⟩ = λ |ψ⟩\n",
        "\n",
        "where λ is an eigenvalue and |ψ⟩ is the corresponding eigenvector.\n",
        "\n",
        "The eigenvalues for all Pauli matrices are:\n",
        "\n",
        "λ₁ = +1\n",
        "λ₂ = -1\n",
        "\n",
        "------------------------------------------------------------\n",
        "5. Eigenvectors:\n",
        "\n",
        "Pauli-X:\n",
        "   Eigenvectors → (|0⟩ ± |1⟩)/√2\n",
        "   Eigenvalues → +1, -1\n",
        "\n",
        "Pauli-Y:\n",
        "   Eigenvectors → (|0⟩ ± i|1⟩)/√2\n",
        "   Eigenvalues → +1, -1\n",
        "\n",
        "Pauli-Z:\n",
        "   Eigenvectors → |0⟩, |1⟩\n",
        "   Eigenvalues → +1, -1\n"
      ],
      "metadata": {
        "id": "9ztRC372OdZs"
      }
    },
    {
      "cell_type": "code",
      "execution_count": null,
      "metadata": {
        "colab": {
          "base_uri": "https://localhost:8080/"
        },
        "id": "VF-iJ0UQkPGG",
        "outputId": "845d15a9-54a6-462c-de91-bd4a91b2f823"
      },
      "outputs": [
        {
          "output_type": "stream",
          "name": "stdout",
          "text": [
            "\n",
            "==================================================\n",
            "TASK 2: PAULI MATRICES AND EIGEN-ANALYSIS\n",
            "==================================================\n",
            "Pauli-X matrix:\n",
            "[[0 1]\n",
            " [1 0]]\n",
            "\n",
            "Pauli-Y matrix:\n",
            "[[ 0.+0.j -0.-1.j]\n",
            " [ 0.+1.j  0.+0.j]]\n",
            "\n",
            "Pauli-Z matrix:\n",
            "[[ 1  0]\n",
            " [ 0 -1]]\n",
            "\n",
            "Applying Pauli-X to |0⟩: [0 1]\n",
            "Applying Pauli-X to |1⟩: [1 0]\n",
            "\n",
            "Pauli-X Eigenvalues: [ 1. -1.]\n",
            "Pauli-X Eigenvectors:\n",
            " λ=1.0: [0.70710678 0.70710678]\n",
            " λ=-1.0: [-0.70710678  0.70710678]\n",
            "\n",
            "Pauli-Y Eigenvalues: [ 1.+0.j -1.+0.j]\n",
            "Pauli-Y Eigenvectors:\n",
            " λ=1.0+0.0j: [-0.        -0.70710678j  0.70710678+0.j        ]\n",
            " λ=-1.0+0.0j: [0.70710678+0.j         0.        -0.70710678j]\n",
            "\n",
            "Pauli-Z Eigenvalues: [ 1. -1.]\n",
            "Pauli-Z Eigenvectors:\n",
            " λ=1.0: [1. 0.]\n",
            " λ=-1.0: [0. 1.]\n"
          ]
        }
      ],
      "source": [
        "\n",
        "\n",
        "#31/07/2025\n",
        "\n",
        "\n",
        "import numpy as np\n",
        "from numpy.linalg import eig\n",
        "\n",
        "print(\"\\n\" + \"=\"*50)\n",
        "print(\"TASK 2: PAULI MATRICES AND EIGEN-ANALYSIS\")\n",
        "print(\"=\"*50)\n",
        "\n",
        "# Define Pauli matrices\n",
        "pauli_x = np.array([[0, 1], [1, 0]])\n",
        "pauli_y = np.array([[0, -1j], [1j, 0]])\n",
        "pauli_z = np.array([[1, 0], [0, -1]])\n",
        "\n",
        "print(\"Pauli-X matrix:\")\n",
        "print(pauli_x)\n",
        "\n",
        "print(\"\\nPauli-Y matrix:\")\n",
        "print(pauli_y)\n",
        "\n",
        "print(\"\\nPauli-Z matrix:\")\n",
        "print(pauli_z)\n",
        "\n",
        "# Define qubit states\n",
        "qubit_0 = np.array([1, 0])  # |0⟩\n",
        "qubit_1 = np.array([0, 1])  # |1⟩\n",
        "\n",
        "print(\"\\nApplying Pauli-X to |0⟩:\", pauli_x @ qubit_0)\n",
        "print(\"Applying Pauli-X to |1⟩:\", pauli_x @ qubit_1)\n",
        "\n",
        "# Eigen-analysis function\n",
        "def analyze_operator(matrix, name):\n",
        "    eigenvals, eigenvecs = eig(matrix)\n",
        "    print(f\"\\n{name} Eigenvalues:\", eigenvals)\n",
        "    print(f\"{name} Eigenvectors:\")\n",
        "    for i, vec in enumerate(eigenvecs.T):\n",
        "        print(f\" λ={eigenvals[i]:.1f}: {vec}\")\n",
        "\n",
        "# Analyze all three Pauli matrices\n",
        "analyze_operator(pauli_x, \"Pauli-X\")\n",
        "analyze_operator(pauli_y, \"Pauli-Y\")\n",
        "analyze_operator(pauli_z, \"Pauli-Z\")\n"
      ]
    }
  ]
}