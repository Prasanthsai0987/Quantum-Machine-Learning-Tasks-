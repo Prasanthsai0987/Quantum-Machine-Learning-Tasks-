{
  "nbformat": 4,
  "nbformat_minor": 0,
  "metadata": {
    "colab": {
      "provenance": [],
      "authorship_tag": "ABX9TyNNWStTB3D6RjKgSYwMhXCU",
      "include_colab_link": true
    },
    "kernelspec": {
      "name": "python3",
      "display_name": "Python 3"
    },
    "language_info": {
      "name": "python"
    }
  },
  "cells": [
    {
      "cell_type": "markdown",
      "metadata": {
        "id": "view-in-github",
        "colab_type": "text"
      },
      "source": [
        "<a href=\"https://colab.research.google.com/github/Prasanthsai0987/Quantum-Machine-Learning-Tasks-/blob/main/QML%20%20(Task%20-%205)%20.ipynb\" target=\"_parent\"><img src=\"https://colab.research.google.com/assets/colab-badge.svg\" alt=\"Open In Colab\"/></a>"
      ]
    },
    {
      "cell_type": "markdown",
      "source": [
        "============================================================\n",
        "TASK 5: CNOT GATE SIMULATION USING QISKIT\n",
        "============================================================\n",
        "\n",
        "AIM:\n",
        "-----\n",
        "To design, simulate, and analyze the Controlled-NOT (CNOT) gate\n",
        "operation on all two-qubit computational basis states using Qiskit,\n",
        "and to verify the truth table of the quantum CNOT gate."
      ],
      "metadata": {
        "id": "Z-86AmeaS8ic"
      }
    },
    {
      "cell_type": "markdown",
      "source": [
        "------------------------------------------------------------\n",
        "ALGORITHM:\n",
        "------------------------------------------------------------\n",
        "\n",
        "Step 1: Import libraries:\n",
        "        - qiskit.QuantumCircuit\n",
        "        - qiskit_aer.Aer\n",
        "        - qiskit.visualization.plot_histogram\n",
        "        - matplotlib.pyplot\n",
        "\n",
        "Step 2: Create a function cnot_circuit(input_state):\n",
        "        - Initialize a 2-qubit, 2-classical-bit circuit\n",
        "        - Set input state according to given bitstring\n",
        "        - Apply CNOT with q₀ as control and q₁ as target\n",
        "        - Measure both qubits\n",
        "\n",
        "Step 3: Simulate using Qiskit Aer simulator:\n",
        "        - Use 'qasm_simulator'\n",
        "        - Run circuit with 1000 shots\n",
        "        - Collect measurement counts\n",
        "\n",
        "Step 4: Display:\n",
        "        - Quantum circuit diagram\n",
        "        - Measurement histogram\n",
        "\n",
        "Step 5: Repeat for all input states:\n",
        "        |00⟩, |01⟩, |10⟩, |11⟩\n"
      ],
      "metadata": {
        "id": "85GGHKjrTGt7"
      }
    },
    {
      "cell_type": "markdown",
      "source": [
        "------------------------------------------------------------\n",
        "MATHEMATICAL MODEL:\n",
        "------------------------------------------------------------\n",
        "\n",
        "1. Two-Qubit Basis States:\n",
        "\n",
        "|00⟩ = [1, 0, 0, 0]ᵀ\n",
        "|01⟩ = [0, 1, 0, 0]ᵀ\n",
        "|10⟩ = [0, 0, 1, 0]ᵀ\n",
        "|11⟩ = [0, 0, 0, 1]ᵀ\n",
        "\n",
        "------------------------------------------------------------\n",
        "2. CNOT Gate Representation:\n",
        "\n",
        "The Controlled-NOT (CNOT) gate acts on two qubits:\n",
        "- The first qubit is the **control**.\n",
        "- The second qubit is the **target**.\n",
        "\n",
        "Matrix form (control = q₀, target = q₁):\n",
        "\n",
        "CNOT =\n",
        "|00⟩⟨00| + |01⟩⟨01| + |11⟩⟨10| + |10⟩⟨11| =\n",
        "[[1, 0, 0, 0],\n",
        " [0, 1, 0, 0],\n",
        " [0, 0, 0, 1],\n",
        " [0, 0, 1, 0]]\n",
        "\n",
        "Action on basis states:\n",
        "\n",
        "CNOT |00⟩ → |00⟩  \n",
        "CNOT |01⟩ → |01⟩  \n",
        "CNOT |10⟩ → |11⟩  \n",
        "CNOT |11⟩ → |10⟩\n",
        "\n",
        "Thus, the target qubit flips **only** when the control qubit is |1⟩.\n",
        "\n",
        "------------------------------------------------------------\n",
        "3. Quantum Circuit Description:\n",
        "\n",
        "- 2 Qubits: q₀ (control), q₁ (target)\n",
        "- 2 Classical bits for measurement\n",
        "- Operations:\n",
        "    a) Prepare input basis state |ab⟩\n",
        "       → apply X gate to q₀ if a = 1\n",
        "       → apply X gate to q₁ if b = 1\n",
        "    b) Apply CNOT gate: qc.cx(0, 1)\n",
        "    c) Measure both qubits\n"
      ],
      "metadata": {
        "id": "NwXUUamOS8X8"
      }
    },
    {
      "cell_type": "code",
      "execution_count": null,
      "metadata": {
        "colab": {
          "base_uri": "https://localhost:8080/"
        },
        "id": "-1nmh74nycVl",
        "outputId": "8a347388-85e2-4ac3-99a4-3c05ddb8a1fa"
      },
      "outputs": [
        {
          "output_type": "stream",
          "name": "stdout",
          "text": [
            "Circuit Diagram:\n",
            "          ┌─┐   \n",
            "q_0: ──■──┤M├───\n",
            "     ┌─┴─┐└╥┘┌─┐\n",
            "q_1: ┤ X ├─╫─┤M├\n",
            "     └───┘ ║ └╥┘\n",
            "c: 2/══════╩══╩═\n",
            "           0  1 \n",
            "Circuit Diagram:\n",
            "               ┌─┐   \n",
            "q_0: ───────■──┤M├───\n",
            "     ┌───┐┌─┴─┐└╥┘┌─┐\n",
            "q_1: ┤ X ├┤ X ├─╫─┤M├\n",
            "     └───┘└───┘ ║ └╥┘\n",
            "c: 2/═══════════╩══╩═\n",
            "                0  1 \n",
            "Circuit Diagram:\n",
            "     ┌───┐     ┌─┐   \n",
            "q_0: ┤ X ├──■──┤M├───\n",
            "     └───┘┌─┴─┐└╥┘┌─┐\n",
            "q_1: ─────┤ X ├─╫─┤M├\n",
            "          └───┘ ║ └╥┘\n",
            "c: 2/═══════════╩══╩═\n",
            "                0  1 \n",
            "Circuit Diagram:\n",
            "     ┌───┐     ┌─┐   \n",
            "q_0: ┤ X ├──■──┤M├───\n",
            "     ├───┤┌─┴─┐└╥┘┌─┐\n",
            "q_1: ┤ X ├┤ X ├─╫─┤M├\n",
            "     └───┘└───┘ ║ └╥┘\n",
            "c: 2/═══════════╩══╩═\n",
            "                0  1 \n"
          ]
        }
      ],
      "source": [
        "from qiskit import QuantumCircuit\n",
        "from qiskit_aer import Aer\n",
        "from qiskit.visualization import plot_histogram\n",
        "import matplotlib.pyplot as plt\n",
        "\n",
        "def cnot_circuit(input_state):\n",
        "    \"\"\"\n",
        "    Creates and simulates a CNOT circuit for a given input state.\n",
        "    Args:\n",
        "        input_state (str): '00', '01', '10', or '11'\n",
        "    \"\"\"\n",
        "    qc = QuantumCircuit(2, 2)  # 2 qubits, 2 classical bits\n",
        "\n",
        "    # Prepare input state\n",
        "    if input_state[0] == '1':\n",
        "        qc.x(0)  # Set q0 to |1⟩\n",
        "    if input_state[1] == '1':\n",
        "        qc.x(1)  # Set q1 to |1⟩\n",
        "\n",
        "    # Apply CNOT (q0 = control, q1 = target)\n",
        "    qc.cx(0, 1)\n",
        "\n",
        "    # Measure both qubits\n",
        "    qc.measure([0, 1], [0, 1])\n",
        "\n",
        "    # Simulate\n",
        "    simulator = Aer.get_backend('qasm_simulator')\n",
        "    result = simulator.run(qc, shots=1000).result()\n",
        "    counts = result.get_counts(qc)\n",
        "\n",
        "    # Output\n",
        "\n",
        "    print(\"Circuit Diagram:\")\n",
        "    print(qc.draw(output='text'))\n",
        "    plot_histogram(counts)\n",
        "\n",
        "    plt.show()\n",
        "\n",
        "# Run tests on all 2-qubit computational basis states\n",
        "for state in ['00', '01', '10', '11']:\n",
        "    cnot_circuit(state)\n"
      ]
    },
    {
      "cell_type": "code",
      "source": [
        "from qiskit import QuantumCircuit\n",
        "from qiskit_aer import Aer\n",
        "from qiskit.visualization import plot_histogram\n",
        "import matplotlib.pyplot as plt\n",
        "# Create circuit\n",
        "qc = QuantumCircuit(3, 2) # 3 qubits, 2 classical bits\n",
        "# Step 1: Prepare Alice's state (|1⟩ for demo)\n",
        "qc.x(0) # Comment out to teleport |0⟩\n",
        "qc.barrier()\n",
        "# Step 2: Create Bell pair (q1 & q2)\n",
        "qc.h(1)\n",
        "qc.cx(1, 2)\n",
        "qc.barrier()\n",
        "# Step 3: Teleportation protocol\n",
        "qc.cx(0, 1)\n",
        "qc.h(0)\n",
        "qc.barrier()\n",
        "# Step 4: Measure Alice's qubits\n",
        "qc.measure([0,1], [0,1])\n",
        "qc.barrier()\n",
        "# Step 5: Bob's corrections\n",
        "qc.cx(1, 2) # X if c1=1\n",
        "qc.cz(0, 2) # Z if c0=1\n",
        "# Step 6: Measure Bob's qubit\n",
        "qc.measure(2, 0) # Overwrite c0 for verification\n",
        "# Draw circuit\n",
        "print(\"Teleportation Circuit:\")\n",
        "print(qc.draw(output='text'))\n",
        "# Simulate\n",
        "simulator = Aer.get_backend('qasm_simulator')\n",
        "result = simulator.run(qc, shots=1000).result()\n",
        "counts = result.get_counts(qc)\n",
        "# Results\n",
        "print(\"\\nMeasurement results:\")\n",
        "print(counts)\n",
        "plot_histogram(counts)\n",
        "plt.show()\n"
      ],
      "metadata": {
        "colab": {
          "base_uri": "https://localhost:8080/"
        },
        "id": "xDZsG4tXymZP",
        "outputId": "ad0c2941-d871-473a-a307-79372a708a6f"
      },
      "execution_count": null,
      "outputs": [
        {
          "output_type": "stream",
          "name": "stdout",
          "text": [
            "Teleportation Circuit:\n",
            "     ┌───┐ ░            ░      ┌───┐ ░ ┌─┐    ░            \n",
            "q_0: ┤ X ├─░────────────░───■──┤ H ├─░─┤M├────░───────■────\n",
            "     └───┘ ░ ┌───┐      ░ ┌─┴─┐└───┘ ░ └╥┘┌─┐ ░       │    \n",
            "q_1: ──────░─┤ H ├──■───░─┤ X ├──────░──╫─┤M├─░───■───┼────\n",
            "           ░ └───┘┌─┴─┐ ░ └───┘      ░  ║ └╥┘ ░ ┌─┴─┐ │ ┌─┐\n",
            "q_2: ──────░──────┤ X ├─░────────────░──╫──╫──░─┤ X ├─■─┤M├\n",
            "           ░      └───┘ ░            ░  ║  ║  ░ └───┘   └╥┘\n",
            "c: 2/═══════════════════════════════════╩══╩═════════════╩═\n",
            "                                        0  1             0 \n",
            "\n",
            "Measurement results:\n",
            "{'11': 489, '01': 511}\n"
          ]
        }
      ]
    },
    {
      "cell_type": "code",
      "metadata": {
        "colab": {
          "base_uri": "https://localhost:8080/"
        },
        "id": "fbe16763",
        "outputId": "7a1e3b60-0c77-4b95-8e48-2eae822f8c52"
      },
      "source": [
        "!pip install qiskit qiskit-aer matplotlib"
      ],
      "execution_count": null,
      "outputs": [
        {
          "output_type": "stream",
          "name": "stdout",
          "text": [
            "Collecting qiskit\n",
            "  Downloading qiskit-2.1.2-cp39-abi3-manylinux_2_17_x86_64.manylinux2014_x86_64.whl.metadata (12 kB)\n",
            "Collecting qiskit-aer\n",
            "  Downloading qiskit_aer-0.17.1-cp312-cp312-manylinux_2_17_x86_64.manylinux2014_x86_64.whl.metadata (8.3 kB)\n",
            "Requirement already satisfied: matplotlib in /usr/local/lib/python3.12/dist-packages (3.10.0)\n",
            "Collecting rustworkx>=0.15.0 (from qiskit)\n",
            "  Downloading rustworkx-0.17.1-cp39-abi3-manylinux_2_17_x86_64.manylinux2014_x86_64.whl.metadata (10 kB)\n",
            "Requirement already satisfied: numpy<3,>=1.17 in /usr/local/lib/python3.12/dist-packages (from qiskit) (2.0.2)\n",
            "Requirement already satisfied: scipy>=1.5 in /usr/local/lib/python3.12/dist-packages (from qiskit) (1.16.1)\n",
            "Requirement already satisfied: dill>=0.3 in /usr/local/lib/python3.12/dist-packages (from qiskit) (0.3.8)\n",
            "Collecting stevedore>=3.0.0 (from qiskit)\n",
            "  Downloading stevedore-5.5.0-py3-none-any.whl.metadata (2.2 kB)\n",
            "Requirement already satisfied: typing-extensions in /usr/local/lib/python3.12/dist-packages (from qiskit) (4.15.0)\n",
            "Requirement already satisfied: psutil>=5 in /usr/local/lib/python3.12/dist-packages (from qiskit-aer) (5.9.5)\n",
            "Requirement already satisfied: python-dateutil>=2.8.0 in /usr/local/lib/python3.12/dist-packages (from qiskit-aer) (2.9.0.post0)\n",
            "Requirement already satisfied: contourpy>=1.0.1 in /usr/local/lib/python3.12/dist-packages (from matplotlib) (1.3.3)\n",
            "Requirement already satisfied: cycler>=0.10 in /usr/local/lib/python3.12/dist-packages (from matplotlib) (0.12.1)\n",
            "Requirement already satisfied: fonttools>=4.22.0 in /usr/local/lib/python3.12/dist-packages (from matplotlib) (4.59.1)\n",
            "Requirement already satisfied: kiwisolver>=1.3.1 in /usr/local/lib/python3.12/dist-packages (from matplotlib) (1.4.9)\n",
            "Requirement already satisfied: packaging>=20.0 in /usr/local/lib/python3.12/dist-packages (from matplotlib) (25.0)\n",
            "Requirement already satisfied: pillow>=8 in /usr/local/lib/python3.12/dist-packages (from matplotlib) (11.3.0)\n",
            "Requirement already satisfied: pyparsing>=2.3.1 in /usr/local/lib/python3.12/dist-packages (from matplotlib) (3.2.3)\n",
            "Requirement already satisfied: six>=1.5 in /usr/local/lib/python3.12/dist-packages (from python-dateutil>=2.8.0->qiskit-aer) (1.17.0)\n",
            "Downloading qiskit-2.1.2-cp39-abi3-manylinux_2_17_x86_64.manylinux2014_x86_64.whl (7.4 MB)\n",
            "\u001b[2K   \u001b[90m━━━━━━━━━━━━━━━━━━━━━━━━━━━━━━━━━━━━━━━━\u001b[0m \u001b[32m7.4/7.4 MB\u001b[0m \u001b[31m63.4 MB/s\u001b[0m eta \u001b[36m0:00:00\u001b[0m\n",
            "\u001b[?25hDownloading qiskit_aer-0.17.1-cp312-cp312-manylinux_2_17_x86_64.manylinux2014_x86_64.whl (12.4 MB)\n",
            "\u001b[2K   \u001b[90m━━━━━━━━━━━━━━━━━━━━━━━━━━━━━━━━━━━━━━━━\u001b[0m \u001b[32m12.4/12.4 MB\u001b[0m \u001b[31m38.5 MB/s\u001b[0m eta \u001b[36m0:00:00\u001b[0m\n",
            "\u001b[?25hDownloading rustworkx-0.17.1-cp39-abi3-manylinux_2_17_x86_64.manylinux2014_x86_64.whl (2.2 MB)\n",
            "\u001b[2K   \u001b[90m━━━━━━━━━━━━━━━━━━━━━━━━━━━━━━━━━━━━━━━━\u001b[0m \u001b[32m2.2/2.2 MB\u001b[0m \u001b[31m57.4 MB/s\u001b[0m eta \u001b[36m0:00:00\u001b[0m\n",
            "\u001b[?25hDownloading stevedore-5.5.0-py3-none-any.whl (49 kB)\n",
            "\u001b[2K   \u001b[90m━━━━━━━━━━━━━━━━━━━━━━━━━━━━━━━━━━━━━━━━\u001b[0m \u001b[32m49.5/49.5 kB\u001b[0m \u001b[31m3.1 MB/s\u001b[0m eta \u001b[36m0:00:00\u001b[0m\n",
            "\u001b[?25hInstalling collected packages: stevedore, rustworkx, qiskit, qiskit-aer\n",
            "Successfully installed qiskit-2.1.2 qiskit-aer-0.17.1 rustworkx-0.17.1 stevedore-5.5.0\n"
          ]
        }
      ]
    }
  ]
}